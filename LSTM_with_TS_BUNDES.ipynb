{
  "nbformat": 4,
  "nbformat_minor": 0,
  "metadata": {
    "kernelspec": {
      "display_name": "Python 3",
      "language": "python",
      "name": "python3"
    },
    "language_info": {
      "codemirror_mode": {
        "name": "ipython",
        "version": 3
      },
      "file_extension": ".py",
      "mimetype": "text/x-python",
      "name": "python",
      "nbconvert_exporter": "python",
      "pygments_lexer": "ipython3",
      "version": "3.6.10"
    },
    "colab": {
      "provenance": []
    },
    "accelerator": "GPU"
  },
  "cells": [
    {
      "cell_type": "markdown",
      "metadata": {
        "id": "VkIGpehwq1wF"
      },
      "source": [
        "Part 1 - Data Preprocessing"
      ]
    },
    {
      "cell_type": "code",
      "metadata": {
        "colab": {
          "base_uri": "https://localhost:8080/"
        },
        "id": "Cc_iZXebMIOP",
        "outputId": "9f2ced3f-3699-449b-d397-07a1c2f38f64"
      },
      "source": [
        "from google.colab import drive\n",
        "drive.mount('/content/drive')"
      ],
      "execution_count": 96,
      "outputs": [
        {
          "output_type": "stream",
          "name": "stdout",
          "text": [
            "Drive already mounted at /content/drive; to attempt to forcibly remount, call drive.mount(\"/content/drive\", force_remount=True).\n"
          ]
        }
      ]
    },
    {
      "cell_type": "code",
      "metadata": {
        "colab": {
          "base_uri": "https://localhost:8080/",
          "height": 206
        },
        "id": "gFqkC13mq1wH",
        "outputId": "044ab1b7-4bc4-4df7-f68e-58caf0ffb44e"
      },
      "source": [
        "import numpy as np\n",
        "import matplotlib.pyplot as plt\n",
        "import pandas as pd\n",
        "from sklearn.metrics import mean_squared_error\n",
        "# Importing the training set\n",
        "dataset_ts = pd.read_csv('/content/drive/MyDrive/Datasets/BUNDESBANK-BBK01_WT5511.csv')\n",
        "\n",
        "dataset_ts.head()"
      ],
      "execution_count": 97,
      "outputs": [
        {
          "output_type": "execute_result",
          "data": {
            "text/plain": [
              "         Date  Value\n",
              "0  30-04-1968  39.10\n",
              "1  31-05-1968  42.00\n",
              "2  30-06-1968  40.95\n",
              "3  31-07-1968  38.90\n",
              "4  31-08-1968  39.85"
            ],
            "text/html": [
              "\n",
              "  <div id=\"df-9cdb8f2d-f930-4788-8aa4-8bc90f1a06f3\">\n",
              "    <div class=\"colab-df-container\">\n",
              "      <div>\n",
              "<style scoped>\n",
              "    .dataframe tbody tr th:only-of-type {\n",
              "        vertical-align: middle;\n",
              "    }\n",
              "\n",
              "    .dataframe tbody tr th {\n",
              "        vertical-align: top;\n",
              "    }\n",
              "\n",
              "    .dataframe thead th {\n",
              "        text-align: right;\n",
              "    }\n",
              "</style>\n",
              "<table border=\"1\" class=\"dataframe\">\n",
              "  <thead>\n",
              "    <tr style=\"text-align: right;\">\n",
              "      <th></th>\n",
              "      <th>Date</th>\n",
              "      <th>Value</th>\n",
              "    </tr>\n",
              "  </thead>\n",
              "  <tbody>\n",
              "    <tr>\n",
              "      <th>0</th>\n",
              "      <td>30-04-1968</td>\n",
              "      <td>39.10</td>\n",
              "    </tr>\n",
              "    <tr>\n",
              "      <th>1</th>\n",
              "      <td>31-05-1968</td>\n",
              "      <td>42.00</td>\n",
              "    </tr>\n",
              "    <tr>\n",
              "      <th>2</th>\n",
              "      <td>30-06-1968</td>\n",
              "      <td>40.95</td>\n",
              "    </tr>\n",
              "    <tr>\n",
              "      <th>3</th>\n",
              "      <td>31-07-1968</td>\n",
              "      <td>38.90</td>\n",
              "    </tr>\n",
              "    <tr>\n",
              "      <th>4</th>\n",
              "      <td>31-08-1968</td>\n",
              "      <td>39.85</td>\n",
              "    </tr>\n",
              "  </tbody>\n",
              "</table>\n",
              "</div>\n",
              "      <button class=\"colab-df-convert\" onclick=\"convertToInteractive('df-9cdb8f2d-f930-4788-8aa4-8bc90f1a06f3')\"\n",
              "              title=\"Convert this dataframe to an interactive table.\"\n",
              "              style=\"display:none;\">\n",
              "        \n",
              "  <svg xmlns=\"http://www.w3.org/2000/svg\" height=\"24px\"viewBox=\"0 0 24 24\"\n",
              "       width=\"24px\">\n",
              "    <path d=\"M0 0h24v24H0V0z\" fill=\"none\"/>\n",
              "    <path d=\"M18.56 5.44l.94 2.06.94-2.06 2.06-.94-2.06-.94-.94-2.06-.94 2.06-2.06.94zm-11 1L8.5 8.5l.94-2.06 2.06-.94-2.06-.94L8.5 2.5l-.94 2.06-2.06.94zm10 10l.94 2.06.94-2.06 2.06-.94-2.06-.94-.94-2.06-.94 2.06-2.06.94z\"/><path d=\"M17.41 7.96l-1.37-1.37c-.4-.4-.92-.59-1.43-.59-.52 0-1.04.2-1.43.59L10.3 9.45l-7.72 7.72c-.78.78-.78 2.05 0 2.83L4 21.41c.39.39.9.59 1.41.59.51 0 1.02-.2 1.41-.59l7.78-7.78 2.81-2.81c.8-.78.8-2.07 0-2.86zM5.41 20L4 18.59l7.72-7.72 1.47 1.35L5.41 20z\"/>\n",
              "  </svg>\n",
              "      </button>\n",
              "      \n",
              "  <style>\n",
              "    .colab-df-container {\n",
              "      display:flex;\n",
              "      flex-wrap:wrap;\n",
              "      gap: 12px;\n",
              "    }\n",
              "\n",
              "    .colab-df-convert {\n",
              "      background-color: #E8F0FE;\n",
              "      border: none;\n",
              "      border-radius: 50%;\n",
              "      cursor: pointer;\n",
              "      display: none;\n",
              "      fill: #1967D2;\n",
              "      height: 32px;\n",
              "      padding: 0 0 0 0;\n",
              "      width: 32px;\n",
              "    }\n",
              "\n",
              "    .colab-df-convert:hover {\n",
              "      background-color: #E2EBFA;\n",
              "      box-shadow: 0px 1px 2px rgba(60, 64, 67, 0.3), 0px 1px 3px 1px rgba(60, 64, 67, 0.15);\n",
              "      fill: #174EA6;\n",
              "    }\n",
              "\n",
              "    [theme=dark] .colab-df-convert {\n",
              "      background-color: #3B4455;\n",
              "      fill: #D2E3FC;\n",
              "    }\n",
              "\n",
              "    [theme=dark] .colab-df-convert:hover {\n",
              "      background-color: #434B5C;\n",
              "      box-shadow: 0px 1px 3px 1px rgba(0, 0, 0, 0.15);\n",
              "      filter: drop-shadow(0px 1px 2px rgba(0, 0, 0, 0.3));\n",
              "      fill: #FFFFFF;\n",
              "    }\n",
              "  </style>\n",
              "\n",
              "      <script>\n",
              "        const buttonEl =\n",
              "          document.querySelector('#df-9cdb8f2d-f930-4788-8aa4-8bc90f1a06f3 button.colab-df-convert');\n",
              "        buttonEl.style.display =\n",
              "          google.colab.kernel.accessAllowed ? 'block' : 'none';\n",
              "\n",
              "        async function convertToInteractive(key) {\n",
              "          const element = document.querySelector('#df-9cdb8f2d-f930-4788-8aa4-8bc90f1a06f3');\n",
              "          const dataTable =\n",
              "            await google.colab.kernel.invokeFunction('convertToInteractive',\n",
              "                                                     [key], {});\n",
              "          if (!dataTable) return;\n",
              "\n",
              "          const docLinkHtml = 'Like what you see? Visit the ' +\n",
              "            '<a target=\"_blank\" href=https://colab.research.google.com/notebooks/data_table.ipynb>data table notebook</a>'\n",
              "            + ' to learn more about interactive tables.';\n",
              "          element.innerHTML = '';\n",
              "          dataTable['output_type'] = 'display_data';\n",
              "          await google.colab.output.renderOutput(dataTable, element);\n",
              "          const docLink = document.createElement('div');\n",
              "          docLink.innerHTML = docLinkHtml;\n",
              "          element.appendChild(docLink);\n",
              "        }\n",
              "      </script>\n",
              "    </div>\n",
              "  </div>\n",
              "  "
            ]
          },
          "metadata": {},
          "execution_count": 97
        }
      ]
    },
    {
      "cell_type": "code",
      "source": [
        "dataset_ts.plot()\n",
        "plt.show()"
      ],
      "metadata": {
        "colab": {
          "base_uri": "https://localhost:8080/",
          "height": 265
        },
        "id": "3mmNAOYZclqs",
        "outputId": "c39ff071-07f7-4c5d-a9a2-6e003ef0e1e2"
      },
      "execution_count": 98,
      "outputs": [
        {
          "output_type": "display_data",
          "data": {
            "text/plain": [
              "<Figure size 432x288 with 1 Axes>"
            ],
            "image/png": "[encoded data removed]"
          },
          "metadata": {
            "needs_background": "light"
          }
        }
      ]
    },
    {
      "cell_type": "code",
      "metadata": {
        "colab": {
          "base_uri": "https://localhost:8080/"
        },
        "id": "czE6Ogy7q1wJ",
        "outputId": "6210a716-e2d8-43ce-a932-ae591639657f"
      },
      "source": [
        "dataset_ts.shape"
      ],
      "execution_count": 99,
      "outputs": [
        {
          "output_type": "execute_result",
          "data": {
            "text/plain": [
              "(577, 2)"
            ]
          },
          "metadata": {},
          "execution_count": 99
        }
      ]
    },
    {
      "cell_type": "code",
      "metadata": {
        "scrolled": true,
        "colab": {
          "base_uri": "https://localhost:8080/"
        },
        "id": "lLYqHgfrq1wK",
        "outputId": "6575ec3f-4a03-40f6-ccc2-c7b44aefc703"
      },
      "source": [
        "dataset_train = dataset_ts.iloc[:567,:]\n",
        "dataset_train.shape"
      ],
      "execution_count": 100,
      "outputs": [
        {
          "output_type": "execute_result",
          "data": {
            "text/plain": [
              "(567, 2)"
            ]
          },
          "metadata": {},
          "execution_count": 100
        }
      ]
    },
    {
      "cell_type": "code",
      "metadata": {
        "colab": {
          "base_uri": "https://localhost:8080/"
        },
        "id": "yMJAYV4aq1wL",
        "outputId": "eb9c059f-50d0-4035-8dad-550667fae437"
      },
      "source": [
        "training_set = dataset_train.iloc[:, 1].values\n",
        "training_set[:5]"
      ],
      "execution_count": 101,
      "outputs": [
        {
          "output_type": "execute_result",
          "data": {
            "text/plain": [
              "array([39.1 , 42.  , 40.95, 38.9 , 39.85])"
            ]
          },
          "metadata": {},
          "execution_count": 101
        }
      ]
    },
    {
      "cell_type": "code",
      "metadata": {
        "colab": {
          "base_uri": "https://localhost:8080/"
        },
        "id": "yQuYNKbss6eS",
        "outputId": "6391780f-e78b-46ef-9c5d-4770f2ebb2dd"
      },
      "source": [
        "training_set.shape"
      ],
      "execution_count": 102,
      "outputs": [
        {
          "output_type": "execute_result",
          "data": {
            "text/plain": [
              "(567,)"
            ]
          },
          "metadata": {},
          "execution_count": 102
        }
      ]
    },
    {
      "cell_type": "markdown",
      "metadata": {
        "id": "f4q4mZO4q1wN"
      },
      "source": [
        "Feature Scaling"
      ]
    },
    {
      "cell_type": "code",
      "metadata": {
        "id": "Zoej09RLq1wP"
      },
      "source": [
        "training_set = training_set.reshape(-1,1)\n",
        "from sklearn.preprocessing import MinMaxScaler\n",
        "sc = MinMaxScaler()\n",
        "training_set_scaled = sc.fit_transform(training_set)"
      ],
      "execution_count": 103,
      "outputs": []
    },
    {
      "cell_type": "code",
      "metadata": {
        "colab": {
          "base_uri": "https://localhost:8080/"
        },
        "id": "HGjFUHh_q1wV",
        "outputId": "db79d4c7-72cf-4520-8c32-293f150514c6"
      },
      "source": [
        "training_set_scaled[:5]"
      ],
      "execution_count": 104,
      "outputs": [
        {
          "output_type": "execute_result",
          "data": {
            "text/plain": [
              "array([[0.00230037],\n",
              "       [0.00391955],\n",
              "       [0.0033333 ],\n",
              "       [0.0021887 ],\n",
              "       [0.00271912]])"
            ]
          },
          "metadata": {},
          "execution_count": 104
        }
      ]
    },
    {
      "cell_type": "markdown",
      "metadata": {
        "id": "dvArwWKNq1wZ"
      },
      "source": [
        "Creating a data structure with timesteps and 1 output"
      ]
    },
    {
      "cell_type": "code",
      "metadata": {
        "id": "4d4_UTSFq1wa",
        "colab": {
          "base_uri": "https://localhost:8080/"
        },
        "outputId": "4fe0f1db-020c-4f63-af84-4adc68141945"
      },
      "source": [
        "timesteps=10\n",
        "trn_size = dataset_train.shape[0]\n",
        "trn_size"
      ],
      "execution_count": 105,
      "outputs": [
        {
          "output_type": "execute_result",
          "data": {
            "text/plain": [
              "567"
            ]
          },
          "metadata": {},
          "execution_count": 105
        }
      ]
    },
    {
      "cell_type": "code",
      "metadata": {
        "id": "UmhBADDtq1wb"
      },
      "source": [
        "X_train = []\n",
        "y_train = []\n",
        "for i in range(timesteps, trn_size):\n",
        "    X_train.append(training_set_scaled[i-timesteps:i, 0])\n",
        "    y_train.append(training_set_scaled[i, 0])\n",
        "X_train, y_train = np.array(X_train), np.array(y_train)\n"
      ],
      "execution_count": 106,
      "outputs": []
    },
    {
      "cell_type": "code",
      "metadata": {
        "colab": {
          "base_uri": "https://localhost:8080/"
        },
        "id": "dcaYzdbcq1wc",
        "outputId": "0558409b-68f6-41da-9083-0c52e0251a8e"
      },
      "source": [
        "X_train.shape"
      ],
      "execution_count": 107,
      "outputs": [
        {
          "output_type": "execute_result",
          "data": {
            "text/plain": [
              "(557, 10)"
            ]
          },
          "metadata": {},
          "execution_count": 107
        }
      ]
    },
    {
      "cell_type": "code",
      "metadata": {
        "colab": {
          "base_uri": "https://localhost:8080/"
        },
        "id": "eIzTVa1dq1we",
        "outputId": "8154a82e-6bec-40cb-ed64-b96f53cbb5b6"
      },
      "source": [
        "X_train[:1]"
      ],
      "execution_count": 108,
      "outputs": [
        {
          "output_type": "execute_result",
          "data": {
            "text/plain": [
              "array([[0.00230037, 0.00391955, 0.0033333 , 0.0021887 , 0.00271912,\n",
              "        0.00263537, 0.0023562 , 0.00271912, 0.00389164, 0.00422664]])"
            ]
          },
          "metadata": {},
          "execution_count": 108
        }
      ]
    },
    {
      "cell_type": "code",
      "metadata": {
        "colab": {
          "base_uri": "https://localhost:8080/"
        },
        "id": "VpR06vgjq1wf",
        "outputId": "a389bb06-1dea-4590-cde0-e3c17410d44f"
      },
      "source": [
        "y_train[:5]"
      ],
      "execution_count": 109,
      "outputs": [
        {
          "output_type": "execute_result",
          "data": {
            "text/plain": [
              "array([0.00435227, 0.00453373, 0.0048129 , 0.00456165, 0.00348684])"
            ]
          },
          "metadata": {},
          "execution_count": 109
        }
      ]
    },
    {
      "cell_type": "code",
      "metadata": {
        "id": "Noogqqt-q1wf",
        "colab": {
          "base_uri": "https://localhost:8080/"
        },
        "outputId": "c6ce0261-942d-4a67-cbcf-e19d5c5fb456"
      },
      "source": [
        "# Reshaping\n",
        "X_train = np.reshape(X_train, (X_train.shape[0], X_train.shape[1], 1))\n",
        "X_train.shape"
      ],
      "execution_count": 110,
      "outputs": [
        {
          "output_type": "execute_result",
          "data": {
            "text/plain": [
              "(557, 10, 1)"
            ]
          },
          "metadata": {},
          "execution_count": 110
        }
      ]
    },
    {
      "cell_type": "markdown",
      "metadata": {
        "id": "SfCsHTW5q1wh"
      },
      "source": [
        "Part 2 - Building the RNN"
      ]
    },
    {
      "cell_type": "code",
      "metadata": {
        "id": "Ac1Hh7Hbq1wh"
      },
      "source": [
        "import tensorflow as tf\n",
        "from tensorflow import keras"
      ],
      "execution_count": 111,
      "outputs": []
    },
    {
      "cell_type": "code",
      "metadata": {
        "colab": {
          "base_uri": "https://localhost:8080/"
        },
        "id": "J1WDhbA-q1wj",
        "outputId": "c4c02efc-c46b-4490-a3a8-d8a798e761e8"
      },
      "source": [
        "(X_train.shape[1],X_train.shape[2])"
      ],
      "execution_count": 112,
      "outputs": [
        {
          "output_type": "execute_result",
          "data": {
            "text/plain": [
              "(10, 1)"
            ]
          },
          "metadata": {},
          "execution_count": 112
        }
      ]
    },
    {
      "cell_type": "markdown",
      "metadata": {
        "id": "5TkDKiPzq1wj"
      },
      "source": [
        "Initialising the RNN"
      ]
    },
    {
      "cell_type": "code",
      "source": [
        "tf.random.set_seed(seed=2022)\n",
        "model = keras.Sequential([\n",
        "   tf.keras.layers.LSTM(units=100,return_sequences = True, \n",
        "                            input_shape= (X_train.shape[1],X_train.shape[2]) ),\n",
        "   tf.keras.layers.LSTM(units=70,return_sequences = True ) ,\n",
        "   tf.keras.layers.LSTM(units=50 ) ,\n",
        "   tf.keras.layers.Dense(1)                           \n",
        "])\n",
        "model.compile(optimizer = 'adam', loss = 'mean_squared_error')"
      ],
      "metadata": {
        "id": "XMFWbHoffEWA"
      },
      "execution_count": 113,
      "outputs": []
    },
    {
      "cell_type": "code",
      "metadata": {
        "colab": {
          "base_uri": "https://localhost:8080/"
        },
        "id": "_-dzmh7_q1wl",
        "outputId": "5f13ea2e-4832-40cb-855e-7f6e529787c2"
      },
      "source": [
        "model.summary()"
      ],
      "execution_count": 114,
      "outputs": [
        {
          "output_type": "stream",
          "name": "stdout",
          "text": [
            "Model: \"sequential_4\"\n",
            "_________________________________________________________________\n",
            " Layer (type)                Output Shape              Param #   \n",
            "=================================================================\n",
            " lstm_12 (LSTM)              (None, 10, 100)           40800     \n",
            "                                                                 \n",
            " lstm_13 (LSTM)              (None, 10, 70)            47880     \n",
            "                                                                 \n",
            " lstm_14 (LSTM)              (None, 50)                24200     \n",
            "                                                                 \n",
            " dense_4 (Dense)             (None, 1)                 51        \n",
            "                                                                 \n",
            "=================================================================\n",
            "Total params: 112,931\n",
            "Trainable params: 112,931\n",
            "Non-trainable params: 0\n",
            "_________________________________________________________________\n"
          ]
        }
      ]
    },
    {
      "cell_type": "markdown",
      "metadata": {
        "id": "Mvols4Ycq1wm"
      },
      "source": [
        "Fitting the RNN to the Training set"
      ]
    },
    {
      "cell_type": "code",
      "metadata": {
        "id": "5lw0wxMEq1wp",
        "colab": {
          "base_uri": "https://localhost:8080/"
        },
        "outputId": "e6e9fa4c-14ee-4524-bc2e-ff0a4d48d557"
      },
      "source": [
        "model.fit(X_train, y_train, epochs = 50, batch_size = 25)"
      ],
      "execution_count": 115,
      "outputs": [
        {
          "output_type": "stream",
          "name": "stdout",
          "text": [
            "Epoch 1/50\n",
            "23/23 [==============================] - 4s 6ms/step - loss: 0.0266\n",
            "Epoch 2/50\n",
            "23/23 [==============================] - 0s 6ms/step - loss: 0.0042\n",
            "Epoch 3/50\n",
            "23/23 [==============================] - 0s 6ms/step - loss: 0.0022\n",
            "Epoch 4/50\n",
            "23/23 [==============================] - 0s 6ms/step - loss: 0.0018\n",
            "Epoch 5/50\n",
            "23/23 [==============================] - 0s 6ms/step - loss: 0.0018\n",
            "Epoch 6/50\n",
            "23/23 [==============================] - 0s 7ms/step - loss: 0.0018\n",
            "Epoch 7/50\n",
            "23/23 [==============================] - 0s 7ms/step - loss: 0.0020\n",
            "Epoch 8/50\n",
            "23/23 [==============================] - 0s 7ms/step - loss: 0.0017\n",
            "Epoch 9/50\n",
            "23/23 [==============================] - 0s 6ms/step - loss: 0.0017\n",
            "Epoch 10/50\n",
            "23/23 [==============================] - 0s 6ms/step - loss: 0.0017\n",
            "Epoch 11/50\n",
            "23/23 [==============================] - 0s 7ms/step - loss: 0.0017\n",
            "Epoch 12/50\n",
            "23/23 [==============================] - 0s 6ms/step - loss: 0.0018\n",
            "Epoch 13/50\n",
            "23/23 [==============================] - 0s 8ms/step - loss: 0.0020\n",
            "Epoch 14/50\n",
            "23/23 [==============================] - 0s 7ms/step - loss: 0.0016\n",
            "Epoch 15/50\n",
            "23/23 [==============================] - 0s 7ms/step - loss: 0.0016\n",
            "Epoch 16/50\n",
            "23/23 [==============================] - 0s 7ms/step - loss: 0.0016\n",
            "Epoch 17/50\n",
            "23/23 [==============================] - 0s 6ms/step - loss: 0.0015\n",
            "Epoch 18/50\n",
            "23/23 [==============================] - 0s 6ms/step - loss: 0.0015\n",
            "Epoch 19/50\n",
            "23/23 [==============================] - 0s 7ms/step - loss: 0.0015\n",
            "Epoch 20/50\n",
            "23/23 [==============================] - 0s 6ms/step - loss: 0.0014\n",
            "Epoch 21/50\n",
            "23/23 [==============================] - 0s 7ms/step - loss: 0.0017\n",
            "Epoch 22/50\n",
            "23/23 [==============================] - 0s 7ms/step - loss: 0.0017\n",
            "Epoch 23/50\n",
            "23/23 [==============================] - 0s 6ms/step - loss: 0.0014\n",
            "Epoch 24/50\n",
            "23/23 [==============================] - 0s 6ms/step - loss: 0.0021\n",
            "Epoch 25/50\n",
            "23/23 [==============================] - 0s 6ms/step - loss: 0.0016\n",
            "Epoch 26/50\n",
            "23/23 [==============================] - 0s 7ms/step - loss: 0.0018\n",
            "Epoch 27/50\n",
            "23/23 [==============================] - 0s 6ms/step - loss: 0.0020\n",
            "Epoch 28/50\n",
            "23/23 [==============================] - 0s 6ms/step - loss: 0.0013\n",
            "Epoch 29/50\n",
            "23/23 [==============================] - 0s 6ms/step - loss: 0.0015\n",
            "Epoch 30/50\n",
            "23/23 [==============================] - 0s 7ms/step - loss: 0.0013\n",
            "Epoch 31/50\n",
            "23/23 [==============================] - 0s 6ms/step - loss: 0.0011\n",
            "Epoch 32/50\n",
            "23/23 [==============================] - 0s 7ms/step - loss: 0.0010\n",
            "Epoch 33/50\n",
            "23/23 [==============================] - 0s 6ms/step - loss: 0.0011\n",
            "Epoch 34/50\n",
            "23/23 [==============================] - 0s 6ms/step - loss: 0.0011\n",
            "Epoch 35/50\n",
            "23/23 [==============================] - 0s 7ms/step - loss: 0.0012\n",
            "Epoch 36/50\n",
            "23/23 [==============================] - 0s 7ms/step - loss: 0.0012\n",
            "Epoch 37/50\n",
            "23/23 [==============================] - 0s 6ms/step - loss: 0.0011\n",
            "Epoch 38/50\n",
            "23/23 [==============================] - 0s 6ms/step - loss: 0.0020\n",
            "Epoch 39/50\n",
            "23/23 [==============================] - 0s 7ms/step - loss: 0.0015\n",
            "Epoch 40/50\n",
            "23/23 [==============================] - 0s 7ms/step - loss: 9.2026e-04\n",
            "Epoch 41/50\n",
            "23/23 [==============================] - 0s 6ms/step - loss: 9.3366e-04\n",
            "Epoch 42/50\n",
            "23/23 [==============================] - 0s 7ms/step - loss: 8.1560e-04\n",
            "Epoch 43/50\n",
            "23/23 [==============================] - 0s 6ms/step - loss: 9.7924e-04\n",
            "Epoch 44/50\n",
            "23/23 [==============================] - 0s 6ms/step - loss: 9.9891e-04\n",
            "Epoch 45/50\n",
            "23/23 [==============================] - 0s 7ms/step - loss: 9.0526e-04\n",
            "Epoch 46/50\n",
            "23/23 [==============================] - 0s 6ms/step - loss: 7.8501e-04\n",
            "Epoch 47/50\n",
            "23/23 [==============================] - 0s 6ms/step - loss: 9.4932e-04\n",
            "Epoch 48/50\n",
            "23/23 [==============================] - 0s 6ms/step - loss: 8.3002e-04\n",
            "Epoch 49/50\n",
            "23/23 [==============================] - 0s 6ms/step - loss: 8.8248e-04\n",
            "Epoch 50/50\n",
            "23/23 [==============================] - 0s 7ms/step - loss: 9.5187e-04\n"
          ]
        },
        {
          "output_type": "execute_result",
          "data": {
            "text/plain": [
              "<keras.callbacks.History at 0x7fc07edd5b20>"
            ]
          },
          "metadata": {},
          "execution_count": 115
        }
      ]
    },
    {
      "cell_type": "markdown",
      "metadata": {
        "id": "L2U9Qh3Wq1wq"
      },
      "source": [
        "Part 3 - Making the predictions and visualising the results"
      ]
    },
    {
      "cell_type": "code",
      "metadata": {
        "colab": {
          "base_uri": "https://localhost:8080/"
        },
        "id": "u5-tDyf8q1wq",
        "outputId": "54b18cb9-1928-4e83-99ba-2f5c4309619e"
      },
      "source": [
        "dataset_test = dataset_ts.iloc[567:,:]\n",
        "test_set = dataset_test.iloc[:, 1].values\n",
        "test_set.shape"
      ],
      "execution_count": 116,
      "outputs": [
        {
          "output_type": "execute_result",
          "data": {
            "text/plain": [
              "(10,)"
            ]
          },
          "metadata": {},
          "execution_count": 116
        }
      ]
    },
    {
      "cell_type": "code",
      "metadata": {
        "colab": {
          "base_uri": "https://localhost:8080/"
        },
        "id": "N-jZoCTHq1wr",
        "outputId": "ee097537-40e9-4f71-e8ad-b305c3bb5399"
      },
      "source": [
        "dataset_total = pd.concat((dataset_train['Value'], dataset_test['Value']), axis = 0)\n",
        "dataset_total"
      ],
      "execution_count": 117,
      "outputs": [
        {
          "output_type": "execute_result",
          "data": {
            "text/plain": [
              "0        39.10\n",
              "1        42.00\n",
              "2        40.95\n",
              "3        38.90\n",
              "4        39.85\n",
              "        ...   \n",
              "572    1062.25\n",
              "573    1112.90\n",
              "574    1234.15\n",
              "575    1233.60\n",
              "576    1237.70\n",
              "Name: Value, Length: 577, dtype: float64"
            ]
          },
          "metadata": {},
          "execution_count": 117
        }
      ]
    },
    {
      "cell_type": "code",
      "metadata": {
        "colab": {
          "base_uri": "https://localhost:8080/"
        },
        "id": "oERBaeI4q1ws",
        "outputId": "9fb790f0-613e-4875-d767-2727502ee855"
      },
      "source": [
        "inputs = dataset_total[len(dataset_total) - len(dataset_test) - timesteps:].values\n",
        "inputs = inputs.reshape(-1,1)\n",
        "len(inputs)"
      ],
      "execution_count": 118,
      "outputs": [
        {
          "output_type": "execute_result",
          "data": {
            "text/plain": [
              "20"
            ]
          },
          "metadata": {},
          "execution_count": 118
        }
      ]
    },
    {
      "cell_type": "code",
      "metadata": {
        "colab": {
          "base_uri": "https://localhost:8080/"
        },
        "id": "iQIBVGzCq1ws",
        "outputId": "7821ba93-8552-42a9-dde2-773eea50bc77"
      },
      "source": [
        "inputs = sc.transform(inputs)\n",
        "X_test = []\n",
        "for i in range(timesteps, len(inputs)):\n",
        "    X_test.append(inputs[i-timesteps:i, 0])\n",
        "X_test = np.array(X_test)\n",
        "X_test = np.reshape(X_test, (X_test.shape[0], X_test.shape[1], 1))\n",
        "X_test.shape"
      ],
      "execution_count": 119,
      "outputs": [
        {
          "output_type": "execute_result",
          "data": {
            "text/plain": [
              "(10, 10, 1)"
            ]
          },
          "metadata": {},
          "execution_count": 119
        }
      ]
    },
    {
      "cell_type": "code",
      "metadata": {
        "id": "kzMib6Mqq1wt",
        "colab": {
          "base_uri": "https://localhost:8080/"
        },
        "outputId": "33f3f836-6a20-4841-ec3a-569d1a725a1d"
      },
      "source": [
        "predicted_values = model.predict(X_test)\n",
        "predicted_values"
      ],
      "execution_count": 120,
      "outputs": [
        {
          "output_type": "stream",
          "name": "stderr",
          "text": [
            "WARNING:tensorflow:5 out of the last 5 calls to <function Model.make_predict_function.<locals>.predict_function at 0x7fc07ef411f0> triggered tf.function retracing. Tracing is expensive and the excessive number of tracings could be due to (1) creating @tf.function repeatedly in a loop, (2) passing tensors with different shapes, (3) passing Python objects instead of tensors. For (1), please define your @tf.function outside of the loop. For (2), @tf.function has reduce_retracing=True option that can avoid unnecessary retracing. For (3), please refer to https://www.tensorflow.org/guide/function#controlling_retracing and https://www.tensorflow.org/api_docs/python/tf/function for  more details.\n"
          ]
        },
        {
          "output_type": "stream",
          "name": "stdout",
          "text": [
            "1/1 [==============================] - 1s 1s/step\n"
          ]
        },
        {
          "output_type": "execute_result",
          "data": {
            "text/plain": [
              "array([[0.65022564],\n",
              "       [0.636302  ],\n",
              "       [0.6221484 ],\n",
              "       [0.6121487 ],\n",
              "       [0.60947526],\n",
              "       [0.6043831 ],\n",
              "       [0.5961063 ],\n",
              "       [0.5926392 ],\n",
              "       [0.60597336],\n",
              "       [0.62870204]], dtype=float32)"
            ]
          },
          "metadata": {},
          "execution_count": 120
        }
      ]
    },
    {
      "cell_type": "code",
      "metadata": {
        "id": "P9b3IwiAq1wt",
        "colab": {
          "base_uri": "https://localhost:8080/"
        },
        "outputId": "97aaaa00-0790-4b0a-b944-d0fe9f50e304"
      },
      "source": [
        "predicted_values.shape"
      ],
      "execution_count": 121,
      "outputs": [
        {
          "output_type": "execute_result",
          "data": {
            "text/plain": [
              "(10, 1)"
            ]
          },
          "metadata": {},
          "execution_count": 121
        }
      ]
    },
    {
      "cell_type": "code",
      "metadata": {
        "id": "NRkoTwQqq1wu",
        "colab": {
          "base_uri": "https://localhost:8080/"
        },
        "outputId": "cc18fb68-7e1a-4715-aac3-9546ac4b7791"
      },
      "source": [
        "predicted_values = sc.inverse_transform(predicted_values)\n",
        "predicted_values"
      ],
      "execution_count": 122,
      "outputs": [
        {
          "output_type": "execute_result",
          "data": {
            "text/plain": [
              "array([[1199.5471],\n",
              "       [1174.6096],\n",
              "       [1149.2603],\n",
              "       [1131.3506],\n",
              "       [1126.5624],\n",
              "       [1117.4423],\n",
              "       [1102.6183],\n",
              "       [1096.4087],\n",
              "       [1120.2904],\n",
              "       [1160.9979]], dtype=float32)"
            ]
          },
          "metadata": {},
          "execution_count": 122
        }
      ]
    },
    {
      "cell_type": "markdown",
      "metadata": {
        "id": "SLYUimjmq1wu"
      },
      "source": [
        "Visualising the results"
      ]
    },
    {
      "cell_type": "code",
      "metadata": {
        "colab": {
          "base_uri": "https://localhost:8080/",
          "height": 295
        },
        "id": "yXO1gomDq1wv",
        "outputId": "1aa4f3e6-7f20-4269-be23-e7a1c44410fe"
      },
      "source": [
        "plt.plot(test_set, color = 'red', label = 'Real Gas Production')\n",
        "plt.plot(predicted_values, color = 'blue', label = 'Predicted Gas Production')\n",
        "plt.title('Gas Production Prediction')\n",
        "plt.xlabel('Time')\n",
        "plt.ylabel('Gas Production')\n",
        "plt.legend()\n",
        "plt.show()"
      ],
      "execution_count": 123,
      "outputs": [
        {
          "output_type": "display_data",
          "data": {
            "text/plain": [
              "<Figure size 432x288 with 1 Axes>"
            ],
            "image/png": "[encoded data removed]"
          },
          "metadata": {
            "needs_background": "light"
          }
        }
      ]
    },
    {
      "cell_type": "markdown",
      "metadata": {
        "id": "pB6tA_bDq1wv"
      },
      "source": [
        "Root Mean Square Error"
      ]
    },
    {
      "cell_type": "code",
      "metadata": {
        "colab": {
          "base_uri": "https://localhost:8080/"
        },
        "id": "46PFYCRtq1ww",
        "outputId": "d173454e-90fa-451e-e831-616a48d8b2d5"
      },
      "source": [
        "print(np.sqrt(mean_squared_error(predicted_values,test_set)))"
      ],
      "execution_count": 124,
      "outputs": [
        {
          "output_type": "stream",
          "name": "stdout",
          "text": [
            "79.71936619465393\n"
          ]
        }
      ]
    },
    {
      "cell_type": "code",
      "metadata": {
        "id": "AUciEeruq1ww"
      },
      "source": [],
      "execution_count": 124,
      "outputs": []
    }
  ]
}